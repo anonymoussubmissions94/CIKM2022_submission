{
 "cells": [
  {
   "cell_type": "code",
   "execution_count": 2,
   "metadata": {},
   "outputs": [],
   "source": [
    "import warnings\n",
    "warnings.simplefilter(action='ignore', category=FutureWarning)\n",
    "import pandas as pd\n",
    "import numpy as np\n",
    "import requests\n",
    "import time\n",
    "pd.options.mode.chained_assignment = None\n",
    "import json\n",
    "from SPARQLWrapper import SPARQLWrapper, JSON"
   ]
  },
  {
   "cell_type": "markdown",
   "metadata": {},
   "source": [
    "### class_instances\n",
    "__Input__: a wikidata type\n",
    "\n",
    "__Output__: number of entities(members) having this type"
   ]
  },
  {
   "cell_type": "code",
   "execution_count": 3,
   "metadata": {},
   "outputs": [],
   "source": [
    "def class_instances(c):\n",
    "\n",
    "    rq=\"\"\"select  (count(?x) AS ?cnt)\n",
    "{{\n",
    " ?x wdt:P31 wd:{0}\n",
    " }}\"\"\"\n",
    "    sparql = \"https://query.wikidata.org/sparql\"  \n",
    "    #print(rq.format(c))\n",
    "    r = requests.get(sparql, params = {'format': 'json', 'query': rq.format(c)})\n",
    "    data = r.json()\n",
    "    if (pd.io.json.json_normalize(data['results']['bindings']).empty):\n",
    "        return False\n",
    "    else:\n",
    "        result=pd.io.json.json_normalize(data['results']['bindings'])\n",
    "        result=result.rename(columns={\"cnt.value\":\"count\"})\n",
    "        result[\"type\"]=c\n",
    "        result=result[[\"type\",\"count\"]]\n",
    "                \n",
    "    return result"
   ]
  },
  {
   "cell_type": "markdown",
   "metadata": {},
   "source": [
    "### Example:\n",
    "Input wikidata types are __Q40231__:election and __Q175331__:demonstration\n"
   ]
  },
  {
   "cell_type": "code",
   "execution_count": 4,
   "metadata": {},
   "outputs": [
    {
     "name": "stdout",
     "output_type": "stream",
     "text": [
      "      type  count\n",
      "0   Q40231  19190\n",
      "0  Q175331    814\n"
     ]
    }
   ],
   "source": [
    "#Examples:\n",
    "types=[\"Q40231\",\"Q175331\"]\n",
    "\n",
    "final_results=pd.DataFrame()\n",
    "for i in range(len(types)):\n",
    "    tmp_df=class_instances(types[i])\n",
    "    final_results=final_results.append(tmp_df)\n",
    "print(final_results)"
   ]
  },
  {
   "cell_type": "markdown",
   "metadata": {},
   "source": [
    "### get_superclass\n",
    "__Input__: a wikidata type\n",
    "\n",
    "__Output__: all superclasses of the wikidata type up to the highest available class in the hierarchy"
   ]
  },
  {
   "cell_type": "code",
   "execution_count": 5,
   "metadata": {},
   "outputs": [],
   "source": [
    "def get_superclass(c):\n",
    "\n",
    "    rq=\"\"\"  \n",
    "select ?superclass \n",
    "{{\n",
    "wd:{0} wdt:P279* ?superclass\n",
    "\n",
    "    }}\n",
    "    \"\"\"\n",
    "    sparql = \"https://query.wikidata.org/sparql\"  \n",
    "    #print(rq.format(c))\n",
    "    r = requests.get(sparql, params = {'format': 'json', 'query': rq.format(c)})\n",
    "    data = r.json()\n",
    "    if (pd.io.json.json_normalize(data['results']['bindings']).empty):\n",
    "        return False\n",
    "    else:\n",
    "        result=pd.io.json.json_normalize(data['results']['bindings'])\n",
    "    result[\"type\"]=c  \n",
    "    result=result.rename(columns={\"superclass.value\":\"superclass\"})\n",
    "    result[\"superclass\"]=result.apply(lambda row: row.superclass[row.superclass.rfind(\"/\")+1:], axis=1)\n",
    "    result=result[[\"type\",\"superclass\"]]\n",
    "    return result"
   ]
  },
  {
   "cell_type": "code",
   "execution_count": 6,
   "metadata": {},
   "outputs": [
    {
     "name": "stdout",
     "output_type": "stream",
     "text": [
      "       type superclass\n",
      "0    Q40231     Q40231\n",
      "1    Q40231    Q189760\n",
      "2    Q40231    Q841654\n",
      "3    Q40231    Q388791\n",
      "4    Q40231   Q1656682\n",
      "..      ...        ...\n",
      "56  Q175331    Q813912\n",
      "57  Q175331   Q3505845\n",
      "58  Q175331   Q1150070\n",
      "59  Q175331  Q67518978\n",
      "60  Q175331    Q937228\n",
      "\n",
      "[133 rows x 2 columns]\n"
     ]
    }
   ],
   "source": [
    "#Examples:\n",
    "types=[\"Q40231\",\"Q175331\"]\n",
    "\n",
    "final_results=pd.DataFrame()\n",
    "for i in range(len(types)):\n",
    "    tmp_df=get_superclass(types[i])\n",
    "    final_results=final_results.append(tmp_df)\n",
    "print(final_results)"
   ]
  },
  {
   "cell_type": "markdown",
   "metadata": {},
   "source": [
    "### get_subclass\n",
    "__Input__: a wikidata type \n",
    "\n",
    "__Output__: all subclasses of the wikidata type until the lowest available class in the hierarchy"
   ]
  },
  {
   "cell_type": "code",
   "execution_count": 7,
   "metadata": {},
   "outputs": [],
   "source": [
    "def get_subclass(c):\n",
    "\n",
    "    rq=\"\"\"  \n",
    "select ?subclass \n",
    "{{\n",
    "?subclass wdt:P279* wd:{0}\n",
    "\n",
    "    }}\n",
    "    \"\"\"\n",
    "    sparql = \"https://query.wikidata.org/sparql\"  \n",
    "    #print(rq.format(c))\n",
    "    r = requests.get(sparql, params = {'format': 'json', 'query': rq.format(c)})\n",
    "    data = r.json()\n",
    "    if (pd.io.json.json_normalize(data['results']['bindings']).empty):\n",
    "        return False\n",
    "    else:\n",
    "        result=pd.io.json.json_normalize(data['results']['bindings'])\n",
    "    result[\"type\"]=c  \n",
    "    result=result.rename(columns={\"subclass.value\":\"subclass\"})\n",
    "    result[\"subclass\"]=result.apply(lambda row: row.subclass[row.subclass.rfind(\"/\")+1:], axis=1)\n",
    "    result=result[[\"type\",\"subclass\"]] \n",
    "    return result"
   ]
  },
  {
   "cell_type": "code",
   "execution_count": 8,
   "metadata": {},
   "outputs": [
    {
     "name": "stdout",
     "output_type": "stream",
     "text": [
      "        type   subclass\n",
      "0     Q40231     Q40231\n",
      "1     Q40231     Q48968\n",
      "2     Q40231    Q139060\n",
      "3     Q40231    Q152450\n",
      "4     Q40231    Q250496\n",
      "..       ...        ...\n",
      "186  Q175331   Q2066411\n",
      "187  Q175331   Q4812461\n",
      "188  Q175331   Q6050412\n",
      "189  Q175331  Q16995927\n",
      "190  Q175331  Q16773134\n",
      "\n",
      "[1679 rows x 2 columns]\n"
     ]
    }
   ],
   "source": [
    "#Examples:\n",
    "types=[\"Q40231\",\"Q175331\"]\n",
    "\n",
    "final_results=pd.DataFrame()\n",
    "for i in range(len(types)):\n",
    "    tmp_df=get_subclass(types[i])\n",
    "    final_results=final_results.append(tmp_df)\n",
    "print(final_results)"
   ]
  },
  {
   "cell_type": "markdown",
   "metadata": {},
   "source": [
    "### get_property_label\n",
    "__Input__: a wikidata property \n",
    "\n",
    "__Output__: label of property"
   ]
  },
  {
   "cell_type": "code",
   "execution_count": 9,
   "metadata": {},
   "outputs": [],
   "source": [
    "def get_property_label(prop):\n",
    "    property_label_rq=\"\"\"\n",
    "\n",
    "SELECT ?prop ?propLabel \n",
    "WHERE\n",
    "{{  \n",
    "  SERVICE wikibase:label {{ bd:serviceParam wikibase:language \"en\". }} \n",
    "  ?prop wikibase:directClaim wdt:{0} .\n",
    "}}\"\"\"\n",
    "        \n",
    "    sparql = \"https://query.wikidata.org/sparql\"  \n",
    "  #  print(wiki_rq.format(prop))\n",
    "    #print(property_label_rq.format(prop))\n",
    "    r = requests.get(sparql, params = {'format': 'json', 'query': property_label_rq.format(prop)})\n",
    "    data = r.json()\n",
    "    if (pd.io.json.json_normalize(data['results']['bindings']).empty):\n",
    "        return False\n",
    "    else:\n",
    "        result=pd.io.json.json_normalize(data['results']['bindings'])\n",
    "    result=result.rename(columns={\"propLabel.value\":\"propLabel\"})\n",
    "    result[\"propLabel\"]=result.apply(lambda row: row.propLabel[row.propLabel.rfind(\"/\")+1:], axis=1)\n",
    "    result[\"property\"]=prop\n",
    "    result=result[[\"property\",\"propLabel\"]]\n",
    "                   \n",
    "    return result"
   ]
  },
  {
   "cell_type": "code",
   "execution_count": null,
   "metadata": {},
   "outputs": [],
   "source": [
    "#Example:\n",
    "properties=[\"P585\",\"P569\"]\n",
    "\n",
    "final_results=pd.DataFrame()\n",
    "for i in range(len(properties)):\n",
    "    tmp_df=get_property_label(properties[i])\n",
    "    final_results=final_results.append(tmp_df)\n",
    "print(final_results)"
   ]
  },
  {
   "cell_type": "markdown",
   "metadata": {},
   "source": [
    "### type_label\n",
    "__Input__: a wikidata class \n",
    "\n",
    "__Output__: English label of the wikidata class"
   ]
  },
  {
   "cell_type": "code",
   "execution_count": 10,
   "metadata": {},
   "outputs": [],
   "source": [
    "def type_label(wiki_class):\n",
    "   \n",
    "    wiki_rq='''PREFIX rdfs: <http://www.w3.org/2000/01/rdf-schema#> \n",
    "SELECT  *\n",
    "WHERE {{\n",
    "        wd:{0} rdfs:label ?label .\n",
    "        FILTER (langMatches( lang(?label), \"EN\" ) )\n",
    "      }} \n",
    "limit 1'''\n",
    "    sparql = \"https://query.wikidata.org/sparql\"  \n",
    "    #print(wiki_rq.format(wiki_class))\n",
    "    r = requests.get(sparql, params = {'format': 'json', 'query': wiki_rq.format(wiki_class)})\n",
    "    data = r.json()\n",
    "    if (pd.io.json.json_normalize(data['results']['bindings']).empty):\n",
    "        return False\n",
    "    else:\n",
    "        result=pd.io.json.json_normalize(data['results']['bindings'])\n",
    "    result[\"type\"]=wiki_class\n",
    "    result=result.rename(columns={\"label.value\":\"label\"})\n",
    "    result=result[[\"type\",\"label\"]] \n",
    "                 #  \n",
    "    return result"
   ]
  },
  {
   "cell_type": "code",
   "execution_count": 11,
   "metadata": {},
   "outputs": [
    {
     "name": "stdout",
     "output_type": "stream",
     "text": [
      "      type          label\n",
      "0   Q40231       election\n",
      "0  Q175331  demonstration\n"
     ]
    }
   ],
   "source": [
    "#Examples:\n",
    "types=[\"Q40231\",\"Q175331\"]\n",
    "\n",
    "final_results=pd.DataFrame()\n",
    "for i in range(len(types)):\n",
    "    tmp_df=type_label(types[i])\n",
    "    final_results=final_results.append(tmp_df)\n",
    "print(final_results)"
   ]
  },
  {
   "cell_type": "markdown",
   "metadata": {},
   "source": [
    "### get_datatypes\n",
    "__Input__: a property \n",
    "\n",
    "__Output__: datatypes used for this property"
   ]
  },
  {
   "cell_type": "code",
   "execution_count": 12,
   "metadata": {},
   "outputs": [],
   "source": [
    "def get_datatypes(prop):\n",
    "    \n",
    "    wiki_rq='''SELECT ?datatype \n",
    "WHERE \n",
    "{{\n",
    "  wd:{0} wikibase:propertyType ?datatype .\n",
    "}}'''\n",
    "    sparql = \"https://query.wikidata.org/sparql\"  \n",
    "  #  print(wiki_rq.format(prop))\n",
    "    r = requests.get(sparql, params = {'format': 'json', 'query': wiki_rq.format(prop)})\n",
    "    data = r.json()\n",
    "    if (pd.io.json.json_normalize(data['results']['bindings']).empty):\n",
    "        return False\n",
    "    else:\n",
    "        result=pd.io.json.json_normalize(data['results']['bindings'])\n",
    "        result=result.rename(columns={\"datatype.value\":\"datatype\"})\n",
    "        result[\"datatype\"]=result.apply(lambda row: row.datatype[row.datatype.rfind(\"/\")+1:], axis=1)\n",
    "        result[\"property\"]=prop\n",
    "        result=result[[\"property\",\"datatype\"]]\n",
    "                 #  \n",
    "    return result"
   ]
  },
  {
   "cell_type": "code",
   "execution_count": null,
   "metadata": {},
   "outputs": [],
   "source": [
    "#Example:\n",
    "properties=[\"P585\",\"P569\"]\n",
    "\n",
    "final_results=pd.DataFrame()\n",
    "for i in range(len(properties)):\n",
    "    tmp_df=get_datatypes(properties[i])\n",
    "    final_results=final_results.append(tmp_df)\n",
    "print(final_results)"
   ]
  },
  {
   "cell_type": "markdown",
   "metadata": {},
   "source": [
    "### constraints\n",
    "\n",
    "__Input__: a property(p) and a wikidata type (type of subjects)\n",
    "\n",
    "__Output__: list of wikidata types used as the object in triples with given property and subject type. In addition to these wikidata types, number of times they are used is also provided.\n"
   ]
  },
  {
   "cell_type": "code",
   "execution_count": 13,
   "metadata": {},
   "outputs": [],
   "source": [
    "def constraints(p,h):\n",
    "    \n",
    "    wiki_rq=\"\"\"\n",
    "SELECT  ?tail_type (count(*) as ?cnt) {{\n",
    "?subject wdt:{0} ?object.\n",
    "?subject wdt:P31 wd:{1}.  \n",
    "?object wdt:P31 ?tail_type. \n",
    "}}\n",
    "GROUP BY ?tail_type \n",
    "    \"\"\"\n",
    "    sparql = \"https://query.wikidata.org/sparql\"  \n",
    "    r = requests.get(sparql, params = {'format': 'json', 'query': wiki_rq.format(p,h)})\n",
    "    data = r.json()\n",
    "    if (pd.io.json.json_normalize(data['results']['bindings']).empty):\n",
    "        return False\n",
    "    else:\n",
    "        \n",
    "        result=pd.io.json.json_normalize(data['results']['bindings'])[[\"tail_type.value\",\"cnt.value\"]]\n",
    "        result=result.rename(columns={\"tail_type.value\":\"tail_type\",\"cnt.value\":\"cnt\"})\n",
    "        result[\"property\"]=p\n",
    "        result[\"type\"]=h\n",
    "        result[\"tail_type\"]=result.apply(lambda row: row.tail_type[row.tail_type.rfind(\"/\")+1:], axis=1)\n",
    "    return result\n",
    "    "
   ]
  },
  {
   "cell_type": "code",
   "execution_count": null,
   "metadata": {},
   "outputs": [],
   "source": [
    "#Example:\n",
    "types=[\"Q40231\"]\n",
    "properties=[\"P17\"]\n",
    "\n",
    "final_results=pd.DataFrame()\n",
    "for i in range(len(types)):\n",
    "    tmp_df=constraints(properties[i],types[i])\n",
    "    final_results=final_results.append(tmp_df)\n",
    "final_results['tail_cnt'] = final_results[[\"tail_type\",\"cnt\"]].apply(lambda x: ':'.join(x.dropna().astype(str)),\n",
    "    axis=1)\n",
    "final_results=final_results.groupby([\"property\",\"type\"])[\"tail_cnt\"].apply(list).reset_index()\n",
    "print(final_results)"
   ]
  },
  {
   "cell_type": "markdown",
   "metadata": {},
   "source": [
    "### type_properties\n",
    "__Input__: a wikidata type\n",
    "\n",
    "__Output__: Properties and the number of times these properties has been used for instances of this type"
   ]
  },
  {
   "cell_type": "code",
   "execution_count": 14,
   "metadata": {},
   "outputs": [],
   "source": [
    "def type_properties(c):\n",
    "    wiki_rq='''\n",
    "    SELECT  ?prop (COUNT(?prop) AS ?cnt)\n",
    "WHERE \n",
    "{{  \n",
    "  ?head wdt:P31 wd:{0}.\n",
    "  ?head ?prop ?obj .\n",
    "}} GROUP BY ?prop ?typ\n",
    "\n",
    "    '''\n",
    "    sparql = \"https://query.wikidata.org/sparql\"  \n",
    "    r = requests.get(sparql, params = {'format': 'json', 'query': wiki_rq.format(c)})\n",
    "    data = r.json()\n",
    "    if (pd.io.json.json_normalize(data['results']['bindings']).empty):\n",
    "        return False\n",
    "    else:\n",
    "        result=pd.io.json.json_normalize(data['results']['bindings'])\n",
    "        result=pd.io.json.json_normalize(data['results']['bindings'])[[\"prop.value\",\"cnt.value\"]]\n",
    "        result=result.rename(columns={\"prop.value\":\"prop\", \"cnt.value\":\"count\"})\n",
    "        result[\"property\"]=result.apply(lambda row: row.prop[row.prop.rfind(\"/\")+1:], axis=1)\n",
    "        result[\"type\"]=c\n",
    "        del result[\"prop\"]\n",
    "    return result"
   ]
  },
  {
   "cell_type": "code",
   "execution_count": 15,
   "metadata": {},
   "outputs": [
    {
     "name": "stdout",
     "output_type": "stream",
     "text": [
      "     count property     type\n",
      "6    11301      P17   Q40231\n",
      "7    19635      P31   Q40231\n",
      "8    11304      P17   Q40231\n",
      "9    19635      P31   Q40231\n",
      "10   13348     P585   Q40231\n",
      "..     ...      ...      ...\n",
      "421      2    P5797  Q175331\n",
      "422      1    P4300  Q175331\n",
      "423      2    P5797  Q175331\n",
      "424      1     P407  Q175331\n",
      "425      1     P407  Q175331\n",
      "\n",
      "[686 rows x 3 columns]\n"
     ]
    }
   ],
   "source": [
    "#Examples:\n",
    "types=[\"Q40231\",\"Q175331\"]\n",
    "\n",
    "final_results=pd.DataFrame()\n",
    "for i in range(len(types)):\n",
    "    tmp_df=type_properties(types[i])\n",
    "    final_results=final_results.append(tmp_df)\n",
    "final_results=final_results.loc[final_results[\"property\"].str.startswith(\"P\"),]\n",
    "print(final_results)"
   ]
  },
  {
   "cell_type": "code",
   "execution_count": null,
   "metadata": {},
   "outputs": [],
   "source": []
  }
 ],
 "metadata": {
  "kernelspec": {
   "display_name": "Python 3",
   "language": "python",
   "name": "python3"
  },
  "language_info": {
   "codemirror_mode": {
    "name": "ipython",
    "version": 3
   },
   "file_extension": ".py",
   "mimetype": "text/x-python",
   "name": "python",
   "nbconvert_exporter": "python",
   "pygments_lexer": "ipython3",
   "version": "3.7.13"
  }
 },
 "nbformat": 4,
 "nbformat_minor": 4
}
