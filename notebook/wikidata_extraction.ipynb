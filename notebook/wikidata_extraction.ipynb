{
 "cells": [
  {
   "cell_type": "code",
   "execution_count": null,
   "metadata": {},
   "outputs": [],
   "source": [
    "import warnings\n",
    "warnings.simplefilter(action='ignore', category=FutureWarning)\n",
    "import pandas as pd\n",
    "import numpy as np\n",
    "import requests\n",
    "import time\n",
    "pd.options.mode.chained_assignment = None\n",
    "import json\n",
    "from SPARQLWrapper import SPARQLWrapper, JSON"
   ]
  },
  {
   "cell_type": "markdown",
   "metadata": {},
   "source": [
    "### class_instances\n",
    "__Input__: a wikidata type\n",
    "\n",
    "__Output__: number of entities(members) having this type"
   ]
  },
  {
   "cell_type": "code",
   "execution_count": null,
   "metadata": {},
   "outputs": [],
   "source": [
    "def class_instances(c):\n",
    "\n",
    "    rq=\"\"\"select  (count(?x) AS ?cnt)\n",
    "{{\n",
    " ?x wdt:P31 wd:{0}\n",
    " }}\"\"\"\n",
    "    sparql = \"https://query.wikidata.org/sparql\"  \n",
    "    #print(rq.format(c))\n",
    "    r = requests.get(sparql, params = {'format': 'json', 'query': rq.format(c)})\n",
    "    data = r.json()\n",
    "    if (pd.io.json.json_normalize(data['results']['bindings']).empty):\n",
    "        return False\n",
    "    else:\n",
    "        result=pd.io.json.json_normalize(data['results']['bindings'])\n",
    "        result=result.rename(columns={\"cnt.value\":\"#type_instances\"})\n",
    "        result[\"type\"]=c\n",
    "        result=result[[\"type\",\"#type_instances\"]]\n",
    "                \n",
    "    return result"
   ]
  },
  {
   "cell_type": "markdown",
   "metadata": {},
   "source": [
    "### Example:\n",
    "Input wikidata types are __Q40231__:election and __Q175331__:demonstration\n"
   ]
  },
  {
   "cell_type": "code",
   "execution_count": null,
   "metadata": {},
   "outputs": [],
   "source": [
    "#Examples:\n",
    "types=[\"Q40231\",\"Q175331\"]\n",
    "\n",
    "final_results=pd.DataFrame()\n",
    "for i in range(len(types)):\n",
    "    tmp_df=class_instances(types[i])\n",
    "    final_results=final_results.append(tmp_df)\n",
    "print(final_results)"
   ]
  },
  {
   "cell_type": "markdown",
   "metadata": {},
   "source": [
    "### get_superclass\n",
    "__Input__: a wikidata type\n",
    "\n",
    "__Output__: all superclasses of the wikidata type up to the highest available class in the hierarchy"
   ]
  },
  {
   "cell_type": "code",
   "execution_count": null,
   "metadata": {},
   "outputs": [],
   "source": [
    "def get_superclass(c):\n",
    "\n",
    "    rq=\"\"\"  \n",
    "select ?superclass \n",
    "{{\n",
    "wd:{0} wdt:P279* ?superclass\n",
    "\n",
    "    }}\n",
    "    \"\"\"\n",
    "    sparql = \"https://query.wikidata.org/sparql\"  \n",
    "    #print(rq.format(c))\n",
    "    r = requests.get(sparql, params = {'format': 'json', 'query': rq.format(c)})\n",
    "    data = r.json()\n",
    "    if (pd.io.json.json_normalize(data['results']['bindings']).empty):\n",
    "        return False\n",
    "    else:\n",
    "        result=pd.io.json.json_normalize(data['results']['bindings'])\n",
    "    result[\"type\"]=c  \n",
    "    result=result.rename(columns={\"superclass.value\":\"superclass\"})\n",
    "    result[\"superclass\"]=result.apply(lambda row: row.superclass[row.superclass.rfind(\"/\")+1:], axis=1)\n",
    "    result=result[[\"type\",\"superclass\"]]\n",
    "    return result"
   ]
  },
  {
   "cell_type": "code",
   "execution_count": null,
   "metadata": {},
   "outputs": [],
   "source": [
    "#Examples:\n",
    "types=[\"Q40231\",\"Q175331\"]\n",
    "\n",
    "final_results=pd.DataFrame()\n",
    "for i in range(len(types)):\n",
    "    tmp_df=get_superclass(types[i])\n",
    "    final_results=final_results.append(tmp_df)\n",
    "print(final_results)"
   ]
  },
  {
   "cell_type": "markdown",
   "metadata": {},
   "source": [
    "### get_subclass\n",
    "__Input__: a wikidata type \n",
    "\n",
    "__Output__: all subclasses of the wikidata type until the lowest available class in the hierarchy"
   ]
  },
  {
   "cell_type": "code",
   "execution_count": null,
   "metadata": {},
   "outputs": [],
   "source": [
    "def get_subclass(c):\n",
    "\n",
    "    rq=\"\"\"  \n",
    "select ?subclass \n",
    "{{\n",
    "?subclass wdt:P279* wd:{0}\n",
    "\n",
    "    }}\n",
    "    \"\"\"\n",
    "    sparql = \"https://query.wikidata.org/sparql\"  \n",
    "    #print(rq.format(c))\n",
    "    r = requests.get(sparql, params = {'format': 'json', 'query': rq.format(c)})\n",
    "    data = r.json()\n",
    "    if (pd.io.json.json_normalize(data['results']['bindings']).empty):\n",
    "        return False\n",
    "    else:\n",
    "        result=pd.io.json.json_normalize(data['results']['bindings'])\n",
    "    result[\"type\"]=c  \n",
    "    result=result.rename(columns={\"subclass.value\":\"subclass\"})\n",
    "    result[\"subclass\"]=result.apply(lambda row: row.subclass[row.subclass.rfind(\"/\")+1:], axis=1)\n",
    "    result=result[[\"type\",\"subclass\"]] \n",
    "    return result"
   ]
  },
  {
   "cell_type": "code",
   "execution_count": null,
   "metadata": {},
   "outputs": [],
   "source": [
    "#Examples:\n",
    "types=[\"Q40231\",\"Q175331\"]\n",
    "\n",
    "final_results=pd.DataFrame()\n",
    "for i in range(len(types)):\n",
    "    tmp_df=get_subclass(types[i])\n",
    "    final_results=final_results.append(tmp_df)\n",
    "print(final_results)"
   ]
  },
  {
   "cell_type": "markdown",
   "metadata": {},
   "source": [
    "### get_property_label\n",
    "__Input__: a wikidata property \n",
    "\n",
    "__Output__: label of property"
   ]
  },
  {
   "cell_type": "code",
   "execution_count": null,
   "metadata": {},
   "outputs": [],
   "source": [
    "def get_property_label(prop):\n",
    "    property_label_rq=\"\"\"\n",
    "\n",
    "SELECT ?prop ?propLabel \n",
    "WHERE\n",
    "{{  \n",
    "  SERVICE wikibase:label {{ bd:serviceParam wikibase:language \"en\". }} \n",
    "  ?prop wikibase:directClaim wdt:{0} .\n",
    "}}\"\"\"\n",
    "        \n",
    "    sparql = \"https://query.wikidata.org/sparql\"  \n",
    "  #  print(wiki_rq.format(prop))\n",
    "    #print(property_label_rq.format(prop))\n",
    "    r = requests.get(sparql, params = {'format': 'json', 'query': property_label_rq.format(prop)})\n",
    "    data = r.json()\n",
    "    if (pd.io.json.json_normalize(data['results']['bindings']).empty):\n",
    "        return False\n",
    "    else:\n",
    "        result=pd.io.json.json_normalize(data['results']['bindings'])\n",
    "    result=result.rename(columns={\"propLabel.value\":\"property_label\"})\n",
    "    result[\"property_label\"]=result.apply(lambda row: row.property_label[row.property_label.rfind(\"/\")+1:], axis=1)\n",
    "    result[\"property\"]=prop\n",
    "    result=result[[\"property\",\"property_label\"]]\n",
    "                   \n",
    "    return result"
   ]
  },
  {
   "cell_type": "code",
   "execution_count": null,
   "metadata": {},
   "outputs": [],
   "source": [
    "#Example:\n",
    "properties=[\"P585\",\"P569\"]\n",
    "\n",
    "final_results=pd.DataFrame()\n",
    "for i in range(len(properties)):\n",
    "    tmp_df=get_property_label(properties[i])\n",
    "    final_results=final_results.append(tmp_df)\n",
    "print(final_results)"
   ]
  },
  {
   "cell_type": "markdown",
   "metadata": {},
   "source": [
    "### type_label\n",
    "__Input__: a wikidata class \n",
    "\n",
    "__Output__: English label of the wikidata class"
   ]
  },
  {
   "cell_type": "code",
   "execution_count": null,
   "metadata": {},
   "outputs": [],
   "source": [
    "def type_label(wiki_class):\n",
    "   \n",
    "    wiki_rq='''PREFIX rdfs: <http://www.w3.org/2000/01/rdf-schema#> \n",
    "SELECT  *\n",
    "WHERE {{\n",
    "        wd:{0} rdfs:label ?label .\n",
    "        FILTER (langMatches( lang(?label), \"EN\" ) )\n",
    "      }} \n",
    "limit 1'''\n",
    "    sparql = \"https://query.wikidata.org/sparql\"  \n",
    "    #print(wiki_rq.format(wiki_class))\n",
    "    r = requests.get(sparql, params = {'format': 'json', 'query': wiki_rq.format(wiki_class)})\n",
    "    data = r.json()\n",
    "    if (pd.io.json.json_normalize(data['results']['bindings']).empty):\n",
    "        return False\n",
    "    else:\n",
    "        result=pd.io.json.json_normalize(data['results']['bindings'])\n",
    "    result[\"type\"]=wiki_class\n",
    "    result=result.rename(columns={\"label.value\":\"type_label\"})\n",
    "    result=result[[\"type\",\"type_label\"]] \n",
    "                 #  \n",
    "    return result"
   ]
  },
  {
   "cell_type": "code",
   "execution_count": null,
   "metadata": {},
   "outputs": [],
   "source": [
    "#Examples:\n",
    "types=[\"Q40231\",\"Q175331\"]\n",
    "\n",
    "final_results=pd.DataFrame()\n",
    "for i in range(len(types)):\n",
    "    tmp_df=type_label(types[i])\n",
    "    final_results=final_results.append(tmp_df)\n",
    "print(final_results)"
   ]
  },
  {
   "cell_type": "markdown",
   "metadata": {},
   "source": [
    "### get_datatypes\n",
    "__Input__: a property \n",
    "\n",
    "__Output__: datatypes used for this property"
   ]
  },
  {
   "cell_type": "code",
   "execution_count": null,
   "metadata": {},
   "outputs": [],
   "source": [
    "def get_datatypes(prop):\n",
    "    \n",
    "    wiki_rq='''SELECT ?datatype \n",
    "WHERE \n",
    "{{\n",
    "  wd:{0} wikibase:propertyType ?datatype .\n",
    "}}'''\n",
    "    sparql = \"https://query.wikidata.org/sparql\"  \n",
    "  #  print(wiki_rq.format(prop))\n",
    "    r = requests.get(sparql, params = {'format': 'json', 'query': wiki_rq.format(prop)})\n",
    "    data = r.json()\n",
    "    if (pd.io.json.json_normalize(data['results']['bindings']).empty):\n",
    "        return False\n",
    "    else:\n",
    "        result=pd.io.json.json_normalize(data['results']['bindings'])\n",
    "        result=result.rename(columns={\"datatype.value\":\"datatype\"})\n",
    "        result[\"datatype\"]=result.apply(lambda row: row.datatype[row.datatype.rfind(\"/\")+1:], axis=1)\n",
    "        result[\"property\"]=prop\n",
    "        result=result[[\"property\",\"datatype\"]]\n",
    "                 #  \n",
    "    return result"
   ]
  },
  {
   "cell_type": "code",
   "execution_count": null,
   "metadata": {},
   "outputs": [],
   "source": [
    "#Example:\n",
    "properties=[\"P585\",\"P569\"]\n",
    "\n",
    "final_results=pd.DataFrame()\n",
    "for i in range(len(properties)):\n",
    "    tmp_df=get_datatypes(properties[i])\n",
    "    final_results=final_results.append(tmp_df)\n",
    "print(final_results)"
   ]
  },
  {
   "cell_type": "markdown",
   "metadata": {},
   "source": [
    "### constraints\n",
    "\n",
    "__Input__: a property(p) and a wikidata type (type of subjects)\n",
    "\n",
    "__Output__: list of wikidata types used as the object in triples with given property and subject type. In addition to these wikidata types, number of times they are used is also provided.\n"
   ]
  },
  {
   "cell_type": "code",
   "execution_count": null,
   "metadata": {},
   "outputs": [],
   "source": [
    "def constraints(p,h):\n",
    "    \n",
    "    wiki_rq=\"\"\"\n",
    "SELECT  ?tail_type (count(*) as ?cnt) {{\n",
    "?subject wdt:{0} ?object.\n",
    "?subject wdt:{0} wd:{1}.  \n",
    "?object wdt:{0} ?tail_type. \n",
    "}}\n",
    "GROUP BY ?tail_type \n",
    "    \"\"\"\n",
    "    sparql = \"https://query.wikidata.org/sparql\"  \n",
    "    r = requests.get(sparql, params = {'format': 'json', 'query': wiki_rq.format(p,h)})\n",
    "    data = r.json()\n",
    "    if (pd.io.json.json_normalize(data['results']['bindings']).empty):\n",
    "        return False\n",
    "    else:\n",
    "        \n",
    "        result=pd.io.json.json_normalize(data['results']['bindings'])[[\"tail_type.value\",\"cnt.value\"]]\n",
    "        result=result.rename(columns={\"tail_type.value\":\"tail_type\",\"cnt.value\":\"cnt\"})\n",
    "        result[\"property\"]=p\n",
    "        result[\"type\"]=h\n",
    "        result[\"tail_type\"]=result.apply(lambda row: row.tail_type[row.tail_type.rfind(\"/\")+1:], axis=1)\n",
    "        \n",
    "        final_results=pd.DataFrame()\n",
    "        #for i in range(len(types)):\n",
    "        #tmp_df=constraints(p,h)\n",
    "        #final_results=final_results.append(tmp_df)\n",
    "        result['tail_cnt'] = result[[\"tail_type\",\"cnt\"]].apply(lambda x: ':'.join(x.dropna().astype(str)),\n",
    "    axis=1)\n",
    "        result=result.groupby([\"property\",\"type\"])[\"tail_cnt\"].apply(list).reset_index()\n",
    "        if (type(result)==bool):\n",
    "            result=pd.DataFrame(columns={\"property\",\"type\",\"tail_cnt\"})\n",
    "            result=result.append({\"property\":p,\"type\":h,\"tail_cnt\":[]}, ignore_index=True)\n",
    "    return result\n",
    "    "
   ]
  },
  {
   "cell_type": "code",
   "execution_count": null,
   "metadata": {},
   "outputs": [],
   "source": [
    "#Example:\n",
    "types=[\"Q40231\"]\n",
    "properties=[\"P17\"]\n",
    "\n",
    "final_results=pd.DataFrame()\n",
    "for i in range(len(types)):\n",
    "    tmp_df=constraints(properties[i],types[i])\n",
    "    final_results=final_results.append(tmp_df)\n",
    "final_results['tail_cnt'] = final_results[[\"tail_type\",\"cnt\"]].apply(lambda x: ':'.join(x.dropna().astype(str)),\n",
    "    axis=1)\n",
    "final_results=final_results.groupby([\"property\",\"type\"])[\"tail_cnt\"].apply(list).reset_index()\n",
    "print(final_results)"
   ]
  },
  {
   "cell_type": "markdown",
   "metadata": {},
   "source": [
    "### type_properties\n",
    "__Input__: a wikidata type\n",
    "\n",
    "__Output__: Properties and the number of times these properties has been used for instances of this type"
   ]
  },
  {
   "cell_type": "code",
   "execution_count": null,
   "metadata": {},
   "outputs": [],
   "source": [
    "def type_properties(c):\n",
    "    wiki_rq='''\n",
    "    SELECT  ?prop (COUNT(?prop) AS ?cnt)\n",
    "WHERE \n",
    "{{  \n",
    "  ?head wdt:P31 wd:{0}.\n",
    "  ?head ?prop ?obj .\n",
    "}} GROUP BY ?prop ?typ\n",
    "\n",
    "    '''\n",
    "    sparql = \"https://query.wikidata.org/sparql\"  \n",
    "    r = requests.get(sparql, params = {'format': 'json', 'query': wiki_rq.format(c)})\n",
    "    data = r.json()\n",
    "    if (pd.io.json.json_normalize(data['results']['bindings']).empty):\n",
    "        return False\n",
    "    else:\n",
    "        result=pd.io.json.json_normalize(data['results']['bindings'])\n",
    "        result=pd.io.json.json_normalize(data['results']['bindings'])[[\"prop.value\",\"cnt.value\"]]\n",
    "        result=result.rename(columns={\"prop.value\":\"prop\", \"cnt.value\":\"count\"})\n",
    "        result=result.loc[result[\"prop\"].str.contains(\"/prop/direct/\"),]\n",
    "        result[\"property\"]=result.apply(lambda row: row.prop[row.prop.rfind(\"/\")+1:], axis=1)\n",
    "        result=result.loc[result[\"property\"].str.startswith(\"P\"),]\n",
    "        result[\"type\"]=c\n",
    "        result=result.drop_duplicates()\n",
    "        del result[\"prop\"]\n",
    "    return result"
   ]
  },
  {
   "cell_type": "code",
   "execution_count": null,
   "metadata": {},
   "outputs": [],
   "source": [
    "#Examples:\n",
    "types=[\"Q40231\",\"Q175331\"]\n",
    "\n",
    "final_results=pd.DataFrame()\n",
    "for i in range(len(types)):\n",
    "    tmp_df=type_properties(types[i])\n",
    "    final_results=final_results.append(tmp_df)\n",
    "print(final_results)"
   ]
  },
  {
   "cell_type": "markdown",
   "metadata": {},
   "source": [
    "### also_known_as\n",
    "\n",
    "__Input__: a wikidata property\n",
    "\n",
    "__Output__: a list of alternative labels used for the property\n"
   ]
  },
  {
   "cell_type": "code",
   "execution_count": null,
   "metadata": {},
   "outputs": [],
   "source": [
    "def also_known_as(p):\n",
    "    wiki_rq='''\n",
    "SELECT (GROUP_CONCAT(DISTINCT(?labels); separator = \", \") AS ?labels_list) WHERE {{\n",
    "    OPTIONAL {{wd:{0} skos:altLabel ?labels . FILTER (lang(?labels) = \"en\") }}\n",
    "    SERVICE wikibase:label {{ bd:serviceParam wikibase:language \"en\" .}}\n",
    " }}\n",
    " '''\n",
    "    sparql = \"https://query.wikidata.org/sparql\"  \n",
    "    r = requests.get(sparql, params = {'format': 'json', 'query': wiki_rq.format(p)})\n",
    "    data = r.json()\n",
    "    if (pd.io.json.json_normalize(data['results']['bindings']).empty):\n",
    "        return False\n",
    "    else:\n",
    "        labels_list=str(pd.io.json.json_normalize(data['results']['bindings']).iloc[0][\"labels_list.value\"])[31:]\n",
    "    result=pd.DataFrame(columns={\"property\",\"also_known\"})\n",
    "    result=result.append({\"property\":p, \"also_known\":labels_list}, ignore_index=True)\n",
    "    if (type(result)==bool):\n",
    "        result=pd.DataFrame(columns={\"property\",\"also_known\"})\n",
    "        result=result.append({\"property\":p,\"also_known\":\"\"}, ignore_index=True)\n",
    "    return result"
   ]
  },
  {
   "cell_type": "code",
   "execution_count": null,
   "metadata": {},
   "outputs": [],
   "source": [
    "#Examples:\n",
    "properties=[\"P31\",\"P585\"]\n",
    "\n",
    "final_results=pd.DataFrame()\n",
    "for i in range(len(properties)):\n",
    "    tmp_df=also_known_as(properties[i])\n",
    "    final_results=final_results.append(tmp_df)\n",
    "print(final_results)"
   ]
  },
  {
   "cell_type": "markdown",
   "metadata": {},
   "source": [
    "### merge_all\n",
    "\n",
    "__Input__: a wikidata type\n",
    "\n",
    "__Output__: all information related to this types and its related properties \n"
   ]
  },
  {
   "cell_type": "code",
   "execution_count": null,
   "metadata": {},
   "outputs": [],
   "source": [
    "def merge_all(c):\n",
    "    df1=type_label(c)\n",
    "    df2=class_instances(c)\n",
    "    df3=type_properties(c)\n",
    "    df=pd.merge(pd.merge(left=df1, right=df2, how=\"inner\", on=\"type\"),right=df3, how=\"inner\", on=\"type\")\n",
    "    properties_list=list(df[\"property\"].unique())\n",
    "    property_df=pd.DataFrame()\n",
    "    for i in range(len(properties_list)):\n",
    "        df4=get_property_label(properties_list[i])\n",
    "        time.sleep(1)\n",
    "        df5=get_datatypes(properties_list[i])\n",
    "        time.sleep(1)\n",
    "        df6=also_known_as(properties_list[i])\n",
    "        time.sleep(1)\n",
    "        df7=constraints(properties_list[i],c)\n",
    "        time.sleep(1)\n",
    "        if (type(df7)==bool):\n",
    "            df7=pd.DataFrame(columns={\"property\",\"type\",\"tail_cnt\"})\n",
    "            df7=df7.append({\"property\":properties_list[i],\"type\":c,\"tail_cnt\":[]}, ignore_index=True)\n",
    "        property_df_tmp=pd.merge(pd.merge(pd.merge(left=df4, right=df5, how=\"inner\", on=\"property\"),right=df6, how=\"inner\", on=\"property\"),right=df7, how=\"inner\", on=\"property\")\n",
    "        property_df=property_df.append(property_df_tmp)\n",
    "    final_info=pd.merge(left=property_df, right=df, how=\"inner\", on=[\"type\",\"property\"])\n",
    "    final_info=final_info[[\"type\",\"type_label\",\"#type_instances\",\"property\",\"property_label\",\"count\",\"also_known\",\"datatype\",\"tail_cnt\"]]"
   ]
  }
 ],
 "metadata": {
  "kernelspec": {
   "display_name": "Python 3",
   "language": "python",
   "name": "python3"
  },
  "language_info": {
   "codemirror_mode": {
    "name": "ipython",
    "version": 3
   },
   "file_extension": ".py",
   "mimetype": "text/x-python",
   "name": "python",
   "nbconvert_exporter": "python",
   "pygments_lexer": "ipython3",
   "version": "3.7.6"
  }
 },
 "nbformat": 4,
 "nbformat_minor": 4
}
