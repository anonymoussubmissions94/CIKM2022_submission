{
 "cells": [
  {
   "cell_type": "code",
   "execution_count": null,
   "metadata": {},
   "outputs": [],
   "source": [
    "import warnings\n",
    "warnings.simplefilter(action='ignore', category=FutureWarning)\n",
    "import pandas as pd\n",
    "import numpy as np\n",
    "import requests\n",
    "import time\n",
    "pd.options.mode.chained_assignment = None\n",
    "import json\n",
    "from SPARQLWrapper import SPARQLWrapper, JSON"
   ]
  },
  {
   "cell_type": "markdown",
   "metadata": {},
   "source": [
    "### class_instances\n",
    "__Input__: a wikidata type\n",
    "\n",
    "__Output__: number of entities(members) having this type"
   ]
  },
  {
   "cell_type": "code",
   "execution_count": null,
   "metadata": {},
   "outputs": [],
   "source": [
    "def class_instances(c):\n",
    "\n",
    "    rq=\"\"\"select  (count(?x) AS ?cnt)\n",
    "{{\n",
    " ?x wdt:P31 wd:{0}\n",
    " }}\"\"\"\n",
    "    sparql = \"https://query.wikidata.org/sparql\"  \n",
    "    #print(rq.format(c))\n",
    "    r = requests.get(sparql, params = {'format': 'json', 'query': rq.format(c)})\n",
    "    data = r.json()\n",
    "    if (pd.io.json.json_normalize(data['results']['bindings']).empty):\n",
    "        return False\n",
    "    else:\n",
    "        result=pd.io.json.json_normalize(data['results']['bindings'])\n",
    "        result=result.rename(columns={\"cnt.value\":\"count\"})\n",
    "        result[\"type\"]=c\n",
    "        result=result[[\"type\",\"count\"]]\n",
    "                \n",
    "    return result"
   ]
  },
  {
   "cell_type": "markdown",
   "metadata": {},
   "source": [
    "### Example:\n",
    "Input wikidata types are __Q40231__:election and __Q175331__:demonstration\n"
   ]
  },
  {
   "cell_type": "code",
   "execution_count": null,
   "metadata": {},
   "outputs": [],
   "source": [
    "#Examples:\n",
    "types=[\"Q40231\",\"Q175331\"]\n",
    "\n",
    "final_results=pd.DataFrame()\n",
    "for i in range(len(types)):\n",
    "    tmp_df=class_instances(types[i])\n",
    "    final_results=final_results.append(tmp_df)\n",
    "print(final_results)"
   ]
  },
  {
   "cell_type": "markdown",
   "metadata": {},
   "source": [
    "### get_superclass\n",
    "__Input__: a wikidata type\n",
    "\n",
    "__Output__: all superclasses of the wikidata type up to the highest available class in the hierarchy"
   ]
  },
  {
   "cell_type": "code",
   "execution_count": null,
   "metadata": {},
   "outputs": [],
   "source": [
    "def get_superclass(c):\n",
    "\n",
    "    rq=\"\"\"  \n",
    "select ?superclass \n",
    "{{\n",
    "wd:{0} wdt:P279* ?superclass\n",
    "\n",
    "    }}\n",
    "    \"\"\"\n",
    "    sparql = \"https://query.wikidata.org/sparql\"  \n",
    "    #print(rq.format(c))\n",
    "    r = requests.get(sparql, params = {'format': 'json', 'query': rq.format(c)})\n",
    "    data = r.json()\n",
    "    if (pd.io.json.json_normalize(data['results']['bindings']).empty):\n",
    "        return False\n",
    "    else:\n",
    "        result=pd.io.json.json_normalize(data['results']['bindings'])\n",
    "    result[\"type\"]=c  \n",
    "    result=result.rename(columns={\"superclass.value\":\"superclass\"})\n",
    "    result[\"superclass\"]=result.apply(lambda row: row.superclass[row.superclass.rfind(\"/\")+1:], axis=1)\n",
    "    result=result[[\"type\",\"superclass\"]]\n",
    "    return result"
   ]
  },
  {
   "cell_type": "code",
   "execution_count": null,
   "metadata": {},
   "outputs": [],
   "source": [
    "#Examples:\n",
    "types=[\"Q40231\",\"Q175331\"]\n",
    "\n",
    "final_results=pd.DataFrame()\n",
    "for i in range(len(types)):\n",
    "    tmp_df=get_superclass(types[i])\n",
    "    final_results=final_results.append(tmp_df)\n",
    "print(final_results)"
   ]
  },
  {
   "cell_type": "markdown",
   "metadata": {},
   "source": [
    "### get_subclass\n",
    "__Input__: a wikidata type \n",
    "\n",
    "__Output__: all subclasses of the wikidata type until the lowest available class in the hierarchy"
   ]
  },
  {
   "cell_type": "code",
   "execution_count": null,
   "metadata": {},
   "outputs": [],
   "source": [
    "def get_subclass(c):\n",
    "\n",
    "    rq=\"\"\"  \n",
    "select ?subclass \n",
    "{{\n",
    "?subclass wdt:P279* wd:{0}\n",
    "\n",
    "    }}\n",
    "    \"\"\"\n",
    "    sparql = \"https://query.wikidata.org/sparql\"  \n",
    "    #print(rq.format(c))\n",
    "    r = requests.get(sparql, params = {'format': 'json', 'query': rq.format(c)})\n",
    "    data = r.json()\n",
    "    if (pd.io.json.json_normalize(data['results']['bindings']).empty):\n",
    "        return False\n",
    "    else:\n",
    "        result=pd.io.json.json_normalize(data['results']['bindings'])\n",
    "    result[\"type\"]=c  \n",
    "    result=result.rename(columns={\"subclass.value\":\"subclass\"})\n",
    "    result[\"subclass\"]=result.apply(lambda row: row.subclass[row.subclass.rfind(\"/\")+1:], axis=1)\n",
    "    result=result[[\"type\",\"subclass\"]] \n",
    "    return result"
   ]
  },
  {
   "cell_type": "code",
   "execution_count": null,
   "metadata": {},
   "outputs": [],
   "source": [
    "#Examples:\n",
    "types=[\"Q40231\",\"Q175331\"]\n",
    "\n",
    "final_results=pd.DataFrame()\n",
    "for i in range(len(types)):\n",
    "    tmp_df=get_subclass(types[i])\n",
    "    final_results=final_results.append(tmp_df)\n",
    "print(final_results)"
   ]
  },
  {
   "cell_type": "markdown",
   "metadata": {},
   "source": [
    "### get_property_label\n",
    "__Input__: a wikidata property \n",
    "\n",
    "__Output__: label of property"
   ]
  },
  {
   "cell_type": "code",
   "execution_count": null,
   "metadata": {},
   "outputs": [],
   "source": [
    "def get_property_label(prop):\n",
    "    property_label_rq=\"\"\"\n",
    "\n",
    "SELECT ?prop ?propLabel \n",
    "WHERE\n",
    "{{  \n",
    "  SERVICE wikibase:label {{ bd:serviceParam wikibase:language \"en\". }} \n",
    "  ?prop wikibase:directClaim wdt:{0} .\n",
    "}}\"\"\"\n",
    "        \n",
    "    sparql = \"https://query.wikidata.org/sparql\"  \n",
    "  #  print(wiki_rq.format(prop))\n",
    "    #print(property_label_rq.format(prop))\n",
    "    r = requests.get(sparql, params = {'format': 'json', 'query': property_label_rq.format(prop)})\n",
    "    data = r.json()\n",
    "    if (pd.io.json.json_normalize(data['results']['bindings']).empty):\n",
    "        return False\n",
    "    else:\n",
    "        result=pd.io.json.json_normalize(data['results']['bindings'])\n",
    "    result=result.rename(columns={\"propLabel.value\":\"propLabel\"})\n",
    "    result[\"propLabel\"]=result.apply(lambda row: row.propLabel[row.propLabel.rfind(\"/\")+1:], axis=1)\n",
    "    result[\"property\"]=prop\n",
    "    result=result[[\"property\",\"propLabel\"]]\n",
    "                   \n",
    "    return result"
   ]
  },
  {
   "cell_type": "code",
   "execution_count": null,
   "metadata": {},
   "outputs": [],
   "source": [
    "#Example:\n",
    "properties=[\"P585\",\"P569\"]\n",
    "\n",
    "final_results=pd.DataFrame()\n",
    "for i in range(len(properties)):\n",
    "    tmp_df=get_property_label(properties[i])\n",
    "    final_results=final_results.append(tmp_df)\n",
    "print(final_results)"
   ]
  },
  {
   "cell_type": "markdown",
   "metadata": {},
   "source": [
    "### type_label\n",
    "__Input__: a wikidata class \n",
    "\n",
    "__Output__: English label of the wikidata class"
   ]
  },
  {
   "cell_type": "code",
   "execution_count": null,
   "metadata": {},
   "outputs": [],
   "source": [
    "def type_label(wiki_class):\n",
    "   \n",
    "    wiki_rq='''PREFIX rdfs: <http://www.w3.org/2000/01/rdf-schema#> \n",
    "SELECT  *\n",
    "WHERE {{\n",
    "        wd:{0} rdfs:label ?label .\n",
    "        FILTER (langMatches( lang(?label), \"EN\" ) )\n",
    "      }} \n",
    "limit 1'''\n",
    "    sparql = \"https://query.wikidata.org/sparql\"  \n",
    "    #print(wiki_rq.format(wiki_class))\n",
    "    r = requests.get(sparql, params = {'format': 'json', 'query': wiki_rq.format(wiki_class)})\n",
    "    data = r.json()\n",
    "    if (pd.io.json.json_normalize(data['results']['bindings']).empty):\n",
    "        return False\n",
    "    else:\n",
    "        result=pd.io.json.json_normalize(data['results']['bindings'])\n",
    "    result[\"type\"]=wiki_class\n",
    "    result=result.rename(columns={\"label.value\":\"label\"})\n",
    "    result=result[[\"type\",\"label\"]] \n",
    "                 #  \n",
    "    return result"
   ]
  },
  {
   "cell_type": "code",
   "execution_count": null,
   "metadata": {},
   "outputs": [],
   "source": [
    "#Examples:\n",
    "types=[\"Q40231\",\"Q175331\"]\n",
    "\n",
    "final_results=pd.DataFrame()\n",
    "for i in range(len(types)):\n",
    "    tmp_df=type_label(types[i])\n",
    "    final_results=final_results.append(tmp_df)\n",
    "print(final_results)"
   ]
  },
  {
   "cell_type": "markdown",
   "metadata": {},
   "source": [
    "### get_datatypes\n",
    "__Input__: a property \n",
    "\n",
    "__Output__: datatypes used for this property"
   ]
  },
  {
   "cell_type": "code",
   "execution_count": null,
   "metadata": {},
   "outputs": [],
   "source": [
    "def get_datatypes(prop):\n",
    "    \n",
    "    wiki_rq='''SELECT ?datatype \n",
    "WHERE \n",
    "{{\n",
    "  wd:{0} wikibase:propertyType ?datatype .\n",
    "}}'''\n",
    "    sparql = \"https://query.wikidata.org/sparql\"  \n",
    "  #  print(wiki_rq.format(prop))\n",
    "    r = requests.get(sparql, params = {'format': 'json', 'query': wiki_rq.format(prop)})\n",
    "    data = r.json()\n",
    "    if (pd.io.json.json_normalize(data['results']['bindings']).empty):\n",
    "        return False\n",
    "    else:\n",
    "        result=pd.io.json.json_normalize(data['results']['bindings'])\n",
    "        result=result.rename(columns={\"datatype.value\":\"datatype\"})\n",
    "        result[\"datatype\"]=result.apply(lambda row: row.datatype[row.datatype.rfind(\"/\")+1:], axis=1)\n",
    "        result[\"property\"]=prop\n",
    "        result=result[[\"property\",\"datatype\"]]\n",
    "                 #  \n",
    "    return result"
   ]
  },
  {
   "cell_type": "code",
   "execution_count": null,
   "metadata": {},
   "outputs": [],
   "source": [
    "#Example:\n",
    "properties=[\"P585\",\"P569\"]\n",
    "\n",
    "final_results=pd.DataFrame()\n",
    "for i in range(len(properties)):\n",
    "    tmp_df=get_datatypes(properties[i])\n",
    "    final_results=final_results.append(tmp_df)\n",
    "print(final_results)"
   ]
  },
  {
   "cell_type": "markdown",
   "metadata": {},
   "source": [
    "### constraints\n",
    "\n",
    "__Input__: a property(p) and a wikidata type (type of subjects)\n",
    "\n",
    "__Output__: list of wikidata types used as the object in triples with given property and subject type. In addition to these wikidata types, number of times they are used is also provided.\n"
   ]
  },
  {
   "cell_type": "code",
   "execution_count": null,
   "metadata": {},
   "outputs": [],
   "source": [
    "def constraints(p,h):\n",
    "    \n",
    "    wiki_rq=\"\"\"\n",
    "SELECT  ?tail_type (count(*) as ?cnt) {{\n",
    "?subject wdt:{0} ?object.\n",
    "?subject wdt:P31 wd:{1}.  \n",
    "?object wdt:P31 ?tail_type. \n",
    "}}\n",
    "GROUP BY ?tail_type \n",
    "    \"\"\"\n",
    "    sparql = \"https://query.wikidata.org/sparql\"  \n",
    "    r = requests.get(sparql, params = {'format': 'json', 'query': wiki_rq.format(p,h)})\n",
    "    data = r.json()\n",
    "    if (pd.io.json.json_normalize(data['results']['bindings']).empty):\n",
    "        return False\n",
    "    else:\n",
    "        \n",
    "        result=pd.io.json.json_normalize(data['results']['bindings'])[[\"tail_type.value\",\"cnt.value\"]]\n",
    "        result=result.rename(columns={\"tail_type.value\":\"tail_type\",\"cnt.value\":\"cnt\"})\n",
    "        result[\"property\"]=p\n",
    "        result[\"type\"]=h\n",
    "        result[\"tail_type\"]=result.apply(lambda row: row.tail_type[row.tail_type.rfind(\"/\")+1:], axis=1)\n",
    "    return result\n",
    "    "
   ]
  },
  {
   "cell_type": "code",
   "execution_count": null,
   "metadata": {},
   "outputs": [],
   "source": [
    "#Example:\n",
    "types=[\"Q40231\"]\n",
    "properties=[\"P17\"]\n",
    "\n",
    "final_results=pd.DataFrame()\n",
    "for i in range(len(types)):\n",
    "    tmp_df=constraints(properties[i],types[i])\n",
    "    final_results=final_results.append(tmp_df)\n",
    "final_results['tail_cnt'] = final_results[[\"tail_type\",\"cnt\"]].apply(lambda x: ':'.join(x.dropna().astype(str)),\n",
    "    axis=1)\n",
    "final_results=final_results.groupby([\"property\",\"type\"])[\"tail_cnt\"].apply(list).reset_index()\n",
    "print(final_results)"
   ]
  },
  {
   "cell_type": "markdown",
   "metadata": {},
   "source": [
    "### type_properties\n",
    "__Input__: a wikidata type\n",
    "\n",
    "__Output__: Properties and the number of times these properties has been used for instances of this type"
   ]
  },
  {
   "cell_type": "code",
   "execution_count": null,
   "metadata": {},
   "outputs": [],
   "source": [
    "def type_properties(c):\n",
    "    wiki_rq='''\n",
    "    SELECT  ?prop (COUNT(?prop) AS ?cnt)\n",
    "WHERE \n",
    "{{  \n",
    "  ?head wdt:P31 wd:{0}.\n",
    "  ?head ?prop ?obj .\n",
    "}} GROUP BY ?prop ?typ\n",
    "\n",
    "    '''\n",
    "    sparql = \"https://query.wikidata.org/sparql\"  \n",
    "    r = requests.get(sparql, params = {'format': 'json', 'query': wiki_rq.format(c)})\n",
    "    data = r.json()\n",
    "    if (pd.io.json.json_normalize(data['results']['bindings']).empty):\n",
    "        return False\n",
    "    else:\n",
    "        result=pd.io.json.json_normalize(data['results']['bindings'])\n",
    "        result=pd.io.json.json_normalize(data['results']['bindings'])[[\"prop.value\",\"cnt.value\"]]\n",
    "        result=result.rename(columns={\"prop.value\":\"prop\", \"cnt.value\":\"count\"})\n",
    "        result[\"property\"]=result.apply(lambda row: row.prop[row.prop.rfind(\"/\")+1:], axis=1)\n",
    "        result[\"type\"]=c\n",
    "        del result[\"prop\"]\n",
    "    return result"
   ]
  },
  {
   "cell_type": "code",
   "execution_count": null,
   "metadata": {},
   "outputs": [],
   "source": [
    "#Examples:\n",
    "types=[\"Q40231\",\"Q175331\"]\n",
    "\n",
    "final_results=pd.DataFrame()\n",
    "for i in range(len(types)):\n",
    "    tmp_df=type_properties(types[i])\n",
    "    final_results=final_results.append(tmp_df)\n",
    "final_results=final_results.loc[final_results[\"property\"].str.startswith(\"P\"),]\n",
    "print(final_results)"
   ]
  },
  {
   "cell_type": "code",
   "execution_count": null,
   "metadata": {},
   "outputs": [],
   "source": []
  }
 ],
 "metadata": {
  "kernelspec": {
   "display_name": "Python 3",
   "language": "python",
   "name": "python3"
  },
  "language_info": {
   "codemirror_mode": {
    "name": "ipython",
    "version": 3
   },
   "file_extension": ".py",
   "mimetype": "text/x-python",
   "name": "python",
   "nbconvert_exporter": "python",
   "pygments_lexer": "ipython3",
   "version": "3.7.6"
  }
 },
 "nbformat": 4,
 "nbformat_minor": 4
}
